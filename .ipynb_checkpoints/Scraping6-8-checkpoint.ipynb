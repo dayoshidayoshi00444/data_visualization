{
 "cells": [
  {
   "cell_type": "code",
   "execution_count": 1,
   "metadata": {},
   "outputs": [],
   "source": [
    "import scrapy\n",
    "import re\n",
    "\n",
    "BASE_URL = \"http://en.wikipedia.org\""
   ]
  },
  {
   "cell_type": "code",
   "execution_count": 3,
   "metadata": {},
   "outputs": [],
   "source": [
    "class NWinnerItemBio(scrapy.Item):\n",
    "    link = scrapy.Field()\n",
    "    name = scrapy.Field()\n",
    "    mini_bio = scrapy.Field()\n",
    "    image_urls = scrapy.Field()\n",
    "    bio_image = scrapy.Field()\n",
    "    images = scrapy.Field()"
   ]
  },
  {
   "cell_type": "code",
   "execution_count": 4,
   "metadata": {},
   "outputs": [],
   "source": [
    "class NWinnerSpiderBio(scrapy.Spider):\n",
    "    name = 'nwinners_minibio'\n",
    "    allowed_domains = ['en.wikipedia.org']\n",
    "    start_urls = [\"https://en.wikipedia.org/wiki/List_of_Nobel_laureates_by_country\"]\n",
    "    \n",
    "    def parse(self, response):\n",
    "        filename = response.url.split('/')[-1]\n",
    "        h2s = response.xpath('//h2')\n",
    "        \n",
    "        for h2 in h2s:\n",
    "            country = h2.xpath('span[@class=\"mw-headline\"]'\\\n",
    "                               'text()').extract()\n",
    "            if country:\n",
    "                winners = h2.xpath('following-siblng::ol[1]')\n",
    "                for w in winners.xpath('li''):\n",
    "                                       wdata = {}\n",
    "                                       wdata['link'] = BASE_URL + w.xpath('a/@href').extract()[0]\n",
    "                                       # get_mini_bio メソッドで受賞者の人物情報ページを処理する\n",
    "                                       request = scrapy.Request(wdata['link'], callback=self.get_mini_bio)\n",
    "                                       request.meta['item'] = NWinnerItem(**wdata)\n",
    "                                       yeild request"
   ]
  },
  {
   "cell_type": "code",
   "execution_count": null,
   "metadata": {},
   "outputs": [],
   "source": []
  }
 ],
 "metadata": {
  "kernelspec": {
   "display_name": "Python 3",
   "language": "python",
   "name": "python3"
  },
  "language_info": {
   "codemirror_mode": {
    "name": "ipython",
    "version": 3
   },
   "file_extension": ".py",
   "mimetype": "text/x-python",
   "name": "python",
   "nbconvert_exporter": "python",
   "pygments_lexer": "ipython3",
   "version": "3.6.5"
  }
 },
 "nbformat": 4,
 "nbformat_minor": 2
}
