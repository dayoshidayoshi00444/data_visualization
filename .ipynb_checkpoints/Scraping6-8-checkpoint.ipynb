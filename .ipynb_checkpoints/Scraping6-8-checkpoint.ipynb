{
 "cells": [
  {
   "cell_type": "code",
   "execution_count": 1,
   "metadata": {},
   "outputs": [],
   "source": [
    "import scrapy\n",
    "import re\n",
    "\n",
    "BASE_URL = \"http://en.wikipedia.org\""
   ]
  },
  {
   "cell_type": "code",
   "execution_count": 3,
   "metadata": {},
   "outputs": [],
   "source": [
    "class NWinnerItemBio(scrapy.Item):\n",
    "    link = scrapy.Field()\n",
    "    name = scrapy.Field()\n",
    "    mini_bio = scrapy.Field()\n",
    "    image_urls = scrapy.Field()\n",
    "    bio_image = scrapy.Field()\n",
    "    images = scrapy.Field()"
   ]
  },
  {
   "cell_type": "code",
   "execution_count": 4,
   "metadata": {},
   "outputs": [],
   "source": [
    "class NWinnerSpiderBio(scrapy.Spider):\n",
    "    name = 'nwinners_minibio'\n",
    "    allowed_domains = ['en.wikipedia.org']\n",
    "    start_urls = [\"https://en.wikipedia.org/wiki/List_of_Nobel_laureates_by_country\"]\n",
    "    \n",
    "    def parse(self, response):\n",
    "        filename = response.url.split('/')[-1]\n",
    "        h2s"
   ]
  },
  {
   "cell_type": "code",
   "execution_count": null,
   "metadata": {},
   "outputs": [],
   "source": []
  }
 ],
 "metadata": {
  "kernelspec": {
   "display_name": "Python 3",
   "language": "python",
   "name": "python3"
  },
  "language_info": {
   "codemirror_mode": {
    "name": "ipython",
    "version": 3
   },
   "file_extension": ".py",
   "mimetype": "text/x-python",
   "name": "python",
   "nbconvert_exporter": "python",
   "pygments_lexer": "ipython3",
   "version": "3.6.5"
  }
 },
 "nbformat": 4,
 "nbformat_minor": 2
}
